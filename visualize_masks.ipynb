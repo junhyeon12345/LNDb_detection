{
 "cells": [
  {
   "cell_type": "markdown",
   "metadata": {},
   "source": [
    "## Log\n",
    "- Written by Junhyeon Kang / email:junhyeon@tesser.co.kr\n",
    "- Written date: 20230722"
   ]
  },
  {
   "cell_type": "markdown",
   "metadata": {},
   "source": [
    "---------"
   ]
  },
  {
   "cell_type": "markdown",
   "metadata": {},
   "source": [
    "## Code Description\n",
    "- Visualize predictions on LNDb CT images"
   ]
  },
  {
   "cell_type": "markdown",
   "metadata": {},
   "source": [
    "-------"
   ]
  },
  {
   "cell_type": "markdown",
   "metadata": {},
   "source": [
    "## Code Flow\n",
    "- Load CT Data as 3D Arrays\n",
    "- Draw tumor boxes based on predictions\n",
    "- Save CT Data as NIFTI files"
   ]
  },
  {
   "cell_type": "markdown",
   "metadata": {},
   "source": [
    "---------"
   ]
  },
  {
   "cell_type": "markdown",
   "metadata": {},
   "source": [
    "## Package Import"
   ]
  },
  {
   "cell_type": "code",
   "execution_count": null,
   "metadata": {},
   "outputs": [],
   "source": [
    "# data science\n",
    "import os, glob, shutil\n",
    "import numpy as np\n",
    "from numpy.linalg import inv\n",
    "import matplotlib.pyplot as plt\n",
    "import seaborn as sns\n",
    "import pandas as pd\n",
    "import pickle\n",
    "\n",
    "# Medical Image package\n",
    "import nibabel as nib\n",
    "from nibabel.affines import apply_affine\n",
    "import pydicom\n",
    "import skimage.io as io\n",
    "\n",
    "# etc\n",
    "from tqdm import tqdm\n",
    "import ipywidgets as widgets\n",
    "from datetime import date"
   ]
  },
  {
   "cell_type": "markdown",
   "metadata": {},
   "source": [
    "-----------"
   ]
  },
  {
   "cell_type": "markdown",
   "metadata": {},
   "source": [
    "## Load PKL predictions"
   ]
  },
  {
   "cell_type": "code",
   "execution_count": null,
   "metadata": {},
   "outputs": [],
   "source": [
    "pkl_path = '/home/ubuntu/junhyeon/junhyeon/Task101_LNDbunion/RetinaUNetV001_D3V001_3d/fold0/val_predictions/'\n",
    "pkl_list = os.listdir(pkl_path)\n",
    "mask_filedic = {}\n",
    "\n",
    "for pkl in pkl_list:\n",
    "    with open(pkl_path+pkl, 'rb') as f:\n",
    "        data = pickle.load(f)\n",
    "        box_coords = data['pred_boxes']\n",
    "        box_scores = data['pred_scores']\n",
    "        score_thresh = 0.4\n",
    "        result_indices = np.where(box_scores>score_thresh)\n",
    "        results = box_coords[result_indices]\n",
    "        mask_filedic[pkl.split('_')[0]] = results\n",
    "        \n",
    "mask_filedic"
   ]
  },
  {
   "cell_type": "markdown",
   "metadata": {},
   "source": [
    "------------"
   ]
  },
  {
   "cell_type": "markdown",
   "metadata": {},
   "source": [
    "## Util Functions"
   ]
  },
  {
   "cell_type": "code",
   "execution_count": null,
   "metadata": {},
   "outputs": [],
   "source": [
    "def load_nii(file_path):\n",
    "    \"\"\"\n",
    "    load nii file\n",
    "    \n",
    "    Args:\n",
    "        file_path (str): nii file path\n",
    "    Returns : \n",
    "        nii (nibabel.nifti1.Nifti1Image): NIFTI file\n",
    "        affine (numpy.ndarray): affine matrix\n",
    "        header (dict): header information\n",
    "    \n",
    "    \"\"\"\n",
    "    nii = nib.load(file_path)\n",
    "    header = nii.header\n",
    "    affine = nii.affine\n",
    "    nii = nii.get_fdata()\n",
    "    \n",
    "    return nii, affine, header"
   ]
  },
  {
   "cell_type": "code",
   "execution_count": null,
   "metadata": {},
   "outputs": [],
   "source": [
    "def draw_seg(arr, x_tup, y_tup,z_tup):\n",
    "    \"\"\"\n",
    "    \n",
    "    Args : \n",
    "        arr (array): CT image array\n",
    "        x_tup (tuple): tuple of min and max x coordinates\n",
    "        y_tup (tuple): tuple of min and max y coordinates\n",
    "        z_tup (tuple): tuple of min and max z coordinates\n",
    "        \n",
    "    Returns : \n",
    "        draw_array(array) : Draw CT image with segmentation array\n",
    "    \n",
    "    \"\"\"\n",
    "    \n",
    "    segmentation_array = np.matrix.copy(arr)\n",
    "    \n",
    "    # x1, x2 = int(x_coor - radius), int(x_coor + radius)\n",
    "    # y1, y2 = int(y_coor - radius), int(y_coor + radius)\n",
    "    # z1, z2 = int(z_coor - radius), int(z_coor + radius) # 더 멀리 띄워서 잘 보이게? 지금 상황이면 가장 윗면은 하얀 사각형으로 보일것.\n",
    "    \n",
    "\n",
    "    x1, x2 = int(x_tup[0]), int(x_tup[1])\n",
    "    y1, y2 = int(y_tup[0]), int(y_tup[1])\n",
    "    z1, z2 = int(z_tup[0]), int(z_tup[1])\n",
    "\n",
    "    whitest = arr.max()\n",
    "        \n",
    "    segmentation_array[x1:x2+1, y1, z1:z2+1] = whitest\n",
    "    segmentation_array[x1:x2+1, y2, z1:z2+1] = whitest\n",
    "    segmentation_array[x1, y1:y2+1, z1:z2+1] = whitest\n",
    "    segmentation_array[x2, y1:y2+1, z1:z2+1] = whitest\n",
    "\n",
    "    return segmentation_array"
   ]
  },
  {
   "cell_type": "markdown",
   "metadata": {},
   "source": [
    "---------"
   ]
  },
  {
   "cell_type": "markdown",
   "metadata": {},
   "source": [
    "## Nii File paths (on which to draw)"
   ]
  },
  {
   "cell_type": "code",
   "execution_count": null,
   "metadata": {},
   "outputs": [],
   "source": [
    "nii_file_paths = os.listdir('/mnt/tesser_nas2/AI_DataSets/lg_tm_CT_LNDb/nii/data_nii/')\n",
    "nii_file_paths"
   ]
  },
  {
   "cell_type": "markdown",
   "metadata": {},
   "source": [
    "-----------"
   ]
  },
  {
   "cell_type": "markdown",
   "metadata": {},
   "source": [
    "## Print masks"
   ]
  },
  {
   "cell_type": "code",
   "execution_count": null,
   "metadata": {},
   "outputs": [],
   "source": [
    "def printer(filename):\n",
    "    \"\"\"\n",
    "    Args : \n",
    "        filename (str): LNDb file name - ex) LNDb-0013\n",
    "        \n",
    "    Returns : \n",
    "        Saves bbox images (.nii.gz) in nii_nndetpredictions folder\n",
    "    \"\"\"\n",
    "    nii, affine, header = load_nii('/mnt/tesser_nas2/AI_DataSets/lg_tm_CT_LNDb/nii/data_nii/' + filename + '.nii.gz')\n",
    "\n",
    "    masklist = mask_filedic[filename]\n",
    "    \n",
    "    seg = nii # initial value, will change each iteration below\n",
    "    for mask in masklist:\n",
    "        # mask coordinates: z1, y1, z2, y2, x1, x2\n",
    "        z_tup = (mask[0], mask[2])\n",
    "        y_tup = (mask[1], mask[3])\n",
    "        x_tup = (mask[4], mask[5])\n",
    "        \n",
    "        try:\n",
    "            seg = draw_seg(seg, x_tup, y_tup, z_tup)\n",
    "        except:\n",
    "            print(filename, 'There exists a prediction out of bounds')\n",
    "\n",
    "    ni_img = nib.Nifti1Image(seg, affine=affine)\n",
    "    nib.save(ni_img, os.path.join(\"/mnt/tesser_nas2/AI_DataSets/lg_tm_CT_LNDb/nii_nndetpredictions/\", filename + \"_bbox.nii.gz\"))"
   ]
  },
  {
   "cell_type": "code",
   "execution_count": null,
   "metadata": {},
   "outputs": [],
   "source": [
    "# Run on all predictions\n",
    "\n",
    "for filename in os.listdir('/home/ubuntu/junhyeon/junhyeon/Task101_LNDbunion/RetinaUNetV001_D3V001_3d/fold0/val_predictions'):\n",
    "    printer(filename.split('_')[0])"
   ]
  }
 ],
 "metadata": {
  "kernelspec": {
   "display_name": "junhyeon_conda",
   "language": "python",
   "name": "python3"
  },
  "language_info": {
   "codemirror_mode": {
    "name": "ipython",
    "version": 3
   },
   "file_extension": ".py",
   "mimetype": "text/x-python",
   "name": "python",
   "nbconvert_exporter": "python",
   "pygments_lexer": "ipython3",
   "version": "3.8.11"
  },
  "orig_nbformat": 4
 },
 "nbformat": 4,
 "nbformat_minor": 2
}
