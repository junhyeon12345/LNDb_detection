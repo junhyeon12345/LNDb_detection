{
 "cells": [
  {
   "attachments": {},
   "cell_type": "markdown",
   "metadata": {},
   "source": [
    "# Log\n",
    "- Written by Junhyeon Kang / email : junhyeon@tesser.co.kr\n",
    "- Written date: 20230622"
   ]
  },
  {
   "attachments": {},
   "cell_type": "markdown",
   "metadata": {},
   "source": [
    "----------"
   ]
  },
  {
   "attachments": {},
   "cell_type": "markdown",
   "metadata": {},
   "source": [
    "# Code Description \n",
    "- Use arithmetic voting to draw ground truth segmentations for LNDb "
   ]
  },
  {
   "attachments": {},
   "cell_type": "markdown",
   "metadata": {},
   "source": [
    "---------------"
   ]
  },
  {
   "attachments": {},
   "cell_type": "markdown",
   "metadata": {},
   "source": [
    "# Code Flow\n",
    "Repeat the following: \n",
    "- Select segmentation masks for a single scan\n",
    "- Load those masks as arrays\n",
    "- Use voting to draw a single new mask\n",
    "- Save new masks as nifti files\n",
    "\n"
   ]
  },
  {
   "attachments": {},
   "cell_type": "markdown",
   "metadata": {},
   "source": [
    "-------"
   ]
  },
  {
   "attachments": {},
   "cell_type": "markdown",
   "metadata": {},
   "source": [
    "# Package Import"
   ]
  },
  {
   "cell_type": "code",
   "execution_count": null,
   "metadata": {},
   "outputs": [],
   "source": [
    "import SimpleITK as sitk\n",
    "import numpy as np\n",
    "import os, shutil\n",
    "import nibabel as nib\n",
    "from collections import defaultdict"
   ]
  },
  {
   "attachments": {},
   "cell_type": "markdown",
   "metadata": {},
   "source": [
    "-----------"
   ]
  },
  {
   "attachments": {},
   "cell_type": "markdown",
   "metadata": {},
   "source": [
    "# Utils Functions"
   ]
  },
  {
   "cell_type": "code",
   "execution_count": null,
   "metadata": {},
   "outputs": [],
   "source": [
    "def load_itk(filename):\n",
    "    print('start load')\n",
    "    itkimage = sitk.ReadImage(filename)\n",
    "    \n",
    "    print('get array now')\n",
    "    # Convert the image to a  numpy array (dimensions are shuffled as z,y,x)\n",
    "    itk_array = sitk.GetArrayFromImage(itkimage)\n",
    "\n",
    "    return itkimage, itk_array"
   ]
  },
  {
   "cell_type": "code",
   "execution_count": null,
   "metadata": {},
   "outputs": [],
   "source": [
    "def write_itk(data_array, input_scan, output_filepath):\n",
    "        \n",
    "    result_image = sitk.GetImageFromArray(data_array)\n",
    "    result_image.CopyInformation(input_scan)\n",
    "\n",
    "    # write the image\n",
    "    sitk.WriteImage(result_image, output_filepath+'.nii.gz')"
   ]
  },
  {
   "cell_type": "code",
   "execution_count": null,
   "metadata": {},
   "outputs": [],
   "source": [
    "def neighbor(array, index):\n",
    "    ind1, ind2, ind3 = index\n",
    "    print(ind1, ind2, ind3)\n",
    "    # there will be no boundary segmentations (suppose)\n",
    "    relevant_box = array[ind1-10 : ind1+11, ind2-10 : ind2+11, ind3-10 : ind3+11]\n",
    "    # print('rel box is ')\n",
    "    # print(relevant_box)\n",
    "    \n",
    "    maxvalue = np.max(relevant_box)\n",
    "    print('max value is: ', maxvalue)\n",
    "\n",
    "    if maxvalue > 0:\n",
    "        return True, maxvalue\n",
    "    return False, None"
   ]
  },
  {
   "attachments": {},
   "cell_type": "markdown",
   "metadata": {},
   "source": [
    "----------"
   ]
  },
  {
   "cell_type": "code",
   "execution_count": null,
   "metadata": {},
   "outputs": [],
   "source": [
    "dir = '/mnt/tesser_nas2/AI_DataSets/lg_tm_CT_LNDb/masks/'\n",
    "output_dir = '/mnt/tesser_nas2/AI_DataSets/lg_tm_CT_LNDb/inter_masks/'\n",
    "\n",
    "filelist = os.listdir(dir)\n",
    "filelist.sort()\n",
    "filelist"
   ]
  },
  {
   "cell_type": "code",
   "execution_count": null,
   "metadata": {},
   "outputs": [],
   "source": [
    "def run(scan_list):\n",
    "    image1, array1 = load_itk(dir+scan_list[0])\n",
    "    array2 = load_itk(dir+scan_list[1])[1]\n",
    "    \n",
    "    try:\n",
    "        array3 = load_itk(dir+scan_list[2])[1]\n",
    "        inter_array = np.where(array1*array2 + array2*array3 + array3*array1 != 0,\\\n",
    "        -1, 0)\n",
    "    except:\n",
    "        inter_array = np.where(array1*array2 != 0,\\\n",
    "        -1, 0)\n",
    "\n",
    "    \n",
    "    inter_indices = np.argwhere(inter_array != 0)\n",
    "\n",
    "    value = 0\n",
    "\n",
    "    for inter_index in inter_indices:\n",
    "        ind1, ind2, ind3 = inter_index\n",
    "        print('indices are: ', [ind1,ind2,ind3])\n",
    "        print('pixel value is: ', inter_array[ind1,ind2,ind3])\n",
    "        \n",
    "        if neighbor(inter_array, inter_index)[0]:\n",
    "            inter_array[ind1,ind2,ind3] = neighbor(inter_array, inter_index)[1]\n",
    "                \n",
    "                \n",
    "        else: # alone\n",
    "            value += 1\n",
    "            print('value is : ', value)\n",
    "\n",
    "            inter_array[ind1,ind2,ind3] = value\n",
    "    \n",
    "    write_itk(inter_array, image1, output_dir+scan_list[0][:-9]+'_inter')\n"
   ]
  },
  {
   "cell_type": "code",
   "execution_count": null,
   "metadata": {},
   "outputs": [],
   "source": [
    "output_list = os.listdir(output_dir)\n",
    "scans_for_inter = []\n",
    "\n",
    "for file in filelist[1:]:\n",
    "    if file[:9]+'_inter.nii.gz' not in output_list:\n",
    "        print(file)\n",
    "        print('scanslist is ', scans_for_inter)\n",
    "        # add to scans list if not new scan number\n",
    "        if len(scans_for_inter) > 0:\n",
    "            if file[:9] in ''.join(scans_for_inter): \n",
    "                if file[-1] == 'd': # another radiologist!\n",
    "                    scans_for_inter.append(file)\n",
    "                if file == filelist[-1]:\n",
    "                    run(scans_for_inter)\n",
    "                    \n",
    "            else: # new scan\n",
    "                if len(scans_for_inter) == 1: # then just copy as intersection image too\n",
    "                    input_image, input_array = load_itk(dir+scans_for_inter[0])\n",
    "                    write_itk(input_array, input_image, output_dir+scans_for_inter[0][:-9]+'_inter')\n",
    "                    \n",
    "                else: # make an intersection image\n",
    "                    run(scans_for_inter)\n",
    "                scans_for_inter = [file]\n",
    "        \n",
    "        \n",
    "        elif len(scans_for_inter) == 0:\n",
    "            scans_for_inter.append(file)\n",
    "    \n",
    "        "
   ]
  }
 ],
 "metadata": {
  "kernelspec": {
   "display_name": "junhyeon_conda",
   "language": "python",
   "name": "python3"
  },
  "language_info": {
   "codemirror_mode": {
    "name": "ipython",
    "version": 3
   },
   "file_extension": ".py",
   "mimetype": "text/x-python",
   "name": "python",
   "nbconvert_exporter": "python",
   "pygments_lexer": "ipython3",
   "version": "3.11.3"
  },
  "orig_nbformat": 4
 },
 "nbformat": 4,
 "nbformat_minor": 2
}
